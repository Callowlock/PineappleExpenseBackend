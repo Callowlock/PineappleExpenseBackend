{
 "cells": [
  {
   "cell_type": "code",
   "execution_count": 2,
   "id": "e906d374-1baa-4a3f-96ec-b807f2546a42",
   "metadata": {},
   "outputs": [],
   "source": [
    "import os\n",
    "from pdf2image import convert_from_path\n",
    "from PIL import Image\n",
    "import numpy as np"
   ]
  },
  {
   "cell_type": "code",
   "execution_count": null,
   "id": "95269642-8322-4744-adda-d6d0bbdf7989",
   "metadata": {},
   "outputs": [],
   "source": [
    "class PreprocessingPipeline:\n",
    "\n",
    "    def __init__(self):\n",
    "        self.layers = []\n",
    "        \n",
    "    "
   ]
  },
  {
   "cell_type": "code",
   "execution_count": 3,
   "id": "90ba039b-9a7a-4e3b-9d8b-ed50c871463a",
   "metadata": {},
   "outputs": [],
   "source": [
    "def convert_to_jpg_standardize_dpi(input_folder, output_folder, dpi = (300,300)):\n",
    "    os.makedirs(output_folder, exist_ok=True)\n",
    "    j = 0\n",
    "    for filename in os.listdir(input_folder):\n",
    "        path = os.path.join(input_folder, filename)\n",
    "        \n",
    "        if filename.lower().endswith(\".pdf\"):\n",
    "            \n",
    "            # Convert PDF to a list of images (one image per page) at default DPI\n",
    "            pages = convert_from_path(path)\n",
    "\n",
    "            # Save each page as a separate JPG file\n",
    "            for i, page in enumerate(pages):\n",
    "                output_filename = os.path.join(\n",
    "                    output_folder, f\"{os.path.splitext(filename)[0]}_page_{i + 1}.jpg\"\n",
    "                )\n",
    "                \n",
    "                page.save(output_filename, \"JPEG\", dpi=dpi)\n",
    "            j += i\n",
    "            \n",
    "        else:\n",
    "            image = Image.open(path)\n",
    "            \n",
    "            output_path = os.path.join(output_folder, filename)\n",
    "            image.save(output_path, \"JPEG\", dpi = dpi)\n",
    "            j+=1\n",
    "\n",
    "    \n",
    "    print(f\"Saved {j} images in {output_folder}\")"
   ]
  },
  {
   "cell_type": "code",
   "execution_count": 3,
   "id": "aa7acbf5-7589-44e4-afef-559dc2577143",
   "metadata": {},
   "outputs": [],
   "source": [
    "def greyscale(img):\n",
    "    \n",
    "    greyscale_img = img.convert(\"L\")\n",
    "    \n",
    "    return greyscale_img"
   ]
  },
  {
   "cell_type": "code",
   "execution_count": 4,
   "id": "3a56f26f-6468-4a77-8fa2-27295564e906",
   "metadata": {},
   "outputs": [
    {
     "ename": "FileNotFoundError",
     "evalue": "[WinError 3] The system cannot find the path specified: 'pdf_jpg_test/'",
     "output_type": "error",
     "traceback": [
      "\u001b[1;31m---------------------------------------------------------------------------\u001b[0m",
      "\u001b[1;31mFileNotFoundError\u001b[0m                         Traceback (most recent call last)",
      "Cell \u001b[1;32mIn[4], line 2\u001b[0m\n\u001b[0;32m      1\u001b[0m L \u001b[38;5;241m=\u001b[39m [convert_to_jpg_standardize_dpi]\n\u001b[1;32m----> 2\u001b[0m \u001b[43mL\u001b[49m\u001b[43m[\u001b[49m\u001b[38;5;241;43m0\u001b[39;49m\u001b[43m]\u001b[49m\u001b[43m(\u001b[49m\u001b[43minput_folder\u001b[49m\u001b[38;5;241;43m=\u001b[39;49m\u001b[38;5;124;43m\"\u001b[39;49m\u001b[38;5;124;43mpdf_jpg_test/\u001b[39;49m\u001b[38;5;124;43m\"\u001b[39;49m\u001b[43m,\u001b[49m\u001b[43m \u001b[49m\u001b[43moutput_folder\u001b[49m\u001b[38;5;241;43m=\u001b[39;49m\u001b[38;5;124;43m'\u001b[39;49m\u001b[38;5;124;43massets/standardized_test\u001b[39;49m\u001b[38;5;124;43m'\u001b[39;49m\u001b[43m)\u001b[49m\n",
      "Cell \u001b[1;32mIn[3], line 4\u001b[0m, in \u001b[0;36mconvert_to_jpg_standardize_dpi\u001b[1;34m(input_folder, output_folder, dpi)\u001b[0m\n\u001b[0;32m      2\u001b[0m os\u001b[38;5;241m.\u001b[39mmakedirs(output_folder, exist_ok\u001b[38;5;241m=\u001b[39m\u001b[38;5;28;01mTrue\u001b[39;00m)\n\u001b[0;32m      3\u001b[0m j \u001b[38;5;241m=\u001b[39m \u001b[38;5;241m0\u001b[39m\n\u001b[1;32m----> 4\u001b[0m \u001b[38;5;28;01mfor\u001b[39;00m filename \u001b[38;5;129;01min\u001b[39;00m \u001b[43mos\u001b[49m\u001b[38;5;241;43m.\u001b[39;49m\u001b[43mlistdir\u001b[49m\u001b[43m(\u001b[49m\u001b[43minput_folder\u001b[49m\u001b[43m)\u001b[49m:\n\u001b[0;32m      5\u001b[0m     path \u001b[38;5;241m=\u001b[39m os\u001b[38;5;241m.\u001b[39mpath\u001b[38;5;241m.\u001b[39mjoin(input_folder, filename)\n\u001b[0;32m      7\u001b[0m     \u001b[38;5;28;01mif\u001b[39;00m filename\u001b[38;5;241m.\u001b[39mlower()\u001b[38;5;241m.\u001b[39mendswith(\u001b[38;5;124m\"\u001b[39m\u001b[38;5;124m.pdf\u001b[39m\u001b[38;5;124m\"\u001b[39m):\n\u001b[0;32m      8\u001b[0m         \n\u001b[0;32m      9\u001b[0m         \u001b[38;5;66;03m# Convert PDF to a list of images (one image per page) at default DPI\u001b[39;00m\n",
      "\u001b[1;31mFileNotFoundError\u001b[0m: [WinError 3] The system cannot find the path specified: 'pdf_jpg_test/'"
     ]
    }
   ],
   "source": [
    "L = [convert_to_jpg_standardize_dpi]\n",
    "L[0](input_folder=\"pdf_jpg/\", output_folder='assets/standardized_test')"
   ]
  },
  {
   "cell_type": "code",
   "execution_count": 16,
   "id": "5a939c97-6cb6-4d6f-a405-f4a85f24baf0",
   "metadata": {},
   "outputs": [
    {
     "ename": "PermissionError",
     "evalue": "[WinError 5] Access is denied: 'assets/pdf_jpg_test/.ipynb_checkpoints/'",
     "output_type": "error",
     "traceback": [
      "\u001b[1;31m---------------------------------------------------------------------------\u001b[0m",
      "\u001b[1;31mPermissionError\u001b[0m                           Traceback (most recent call last)",
      "Cell \u001b[1;32mIn[16], line 1\u001b[0m\n\u001b[1;32m----> 1\u001b[0m \u001b[43mos\u001b[49m\u001b[38;5;241;43m.\u001b[39;49m\u001b[43mremove\u001b[49m\u001b[43m(\u001b[49m\u001b[38;5;124;43m\"\u001b[39;49m\u001b[38;5;124;43massets/pdf_jpg_test/.ipynb_checkpoints/\u001b[39;49m\u001b[38;5;124;43m\"\u001b[39;49m\u001b[43m)\u001b[49m\n",
      "\u001b[1;31mPermissionError\u001b[0m: [WinError 5] Access is denied: 'assets/pdf_jpg_test/.ipynb_checkpoints/'"
     ]
    }
   ],
   "source": [
    "os.remove(\"assets/pdf_jpg_test/.ipynb_checkpoints/\")"
   ]
  },
  {
   "cell_type": "code",
   "execution_count": 15,
   "id": "63cac9bb-7d30-41e7-a4df-68ce2e62fed6",
   "metadata": {},
   "outputs": [
    {
     "ename": "PermissionError",
     "evalue": "[Errno 13] Permission denied: 'C:\\\\Users\\\\Chris Nevares\\\\Documents\\\\Capstone\\\\assets\\\\pdf_jpg_test\\\\.ipynb_checkpoints'",
     "output_type": "error",
     "traceback": [
      "\u001b[1;31m---------------------------------------------------------------------------\u001b[0m",
      "\u001b[1;31mPermissionError\u001b[0m                           Traceback (most recent call last)",
      "Cell \u001b[1;32mIn[15], line 1\u001b[0m\n\u001b[1;32m----> 1\u001b[0m \u001b[43mconvert_to_jpg_standardize_dpi\u001b[49m\u001b[43m(\u001b[49m\u001b[43minput_folder\u001b[49m\u001b[38;5;241;43m=\u001b[39;49m\u001b[38;5;124;43m\"\u001b[39;49m\u001b[38;5;124;43massets/pdf_jpg_test/\u001b[39;49m\u001b[38;5;124;43m\"\u001b[39;49m\u001b[43m,\u001b[49m\u001b[43m \u001b[49m\u001b[43moutput_folder\u001b[49m\u001b[38;5;241;43m=\u001b[39;49m\u001b[38;5;124;43m'\u001b[39;49m\u001b[38;5;124;43massets/standardized_test\u001b[39;49m\u001b[38;5;124;43m'\u001b[39;49m\u001b[43m)\u001b[49m\n",
      "Cell \u001b[1;32mIn[14], line 22\u001b[0m, in \u001b[0;36mconvert_to_jpg_standardize_dpi\u001b[1;34m(input_folder, output_folder, dpi)\u001b[0m\n\u001b[0;32m     19\u001b[0m     j \u001b[38;5;241m+\u001b[39m\u001b[38;5;241m=\u001b[39m i\n\u001b[0;32m     21\u001b[0m \u001b[38;5;28;01melse\u001b[39;00m:\n\u001b[1;32m---> 22\u001b[0m     image \u001b[38;5;241m=\u001b[39m \u001b[43mImage\u001b[49m\u001b[38;5;241;43m.\u001b[39;49m\u001b[43mopen\u001b[49m\u001b[43m(\u001b[49m\u001b[43mpath\u001b[49m\u001b[43m)\u001b[49m\n\u001b[0;32m     24\u001b[0m     output_path \u001b[38;5;241m=\u001b[39m os\u001b[38;5;241m.\u001b[39mpath\u001b[38;5;241m.\u001b[39mjoin(output_folder, filename)\n\u001b[0;32m     25\u001b[0m     image\u001b[38;5;241m.\u001b[39msave(output_path, \u001b[38;5;124m\"\u001b[39m\u001b[38;5;124mJPEG\u001b[39m\u001b[38;5;124m\"\u001b[39m, dpi \u001b[38;5;241m=\u001b[39m dpi)\n",
      "File \u001b[1;32m~\\.conda\\envs\\tf\\lib\\site-packages\\PIL\\Image.py:3469\u001b[0m, in \u001b[0;36mopen\u001b[1;34m(fp, mode, formats)\u001b[0m\n\u001b[0;32m   3466\u001b[0m     filename \u001b[38;5;241m=\u001b[39m os\u001b[38;5;241m.\u001b[39mpath\u001b[38;5;241m.\u001b[39mrealpath(os\u001b[38;5;241m.\u001b[39mfspath(fp))\n\u001b[0;32m   3468\u001b[0m \u001b[38;5;28;01mif\u001b[39;00m filename:\n\u001b[1;32m-> 3469\u001b[0m     fp \u001b[38;5;241m=\u001b[39m \u001b[43mbuiltins\u001b[49m\u001b[38;5;241;43m.\u001b[39;49m\u001b[43mopen\u001b[49m\u001b[43m(\u001b[49m\u001b[43mfilename\u001b[49m\u001b[43m,\u001b[49m\u001b[43m \u001b[49m\u001b[38;5;124;43m\"\u001b[39;49m\u001b[38;5;124;43mrb\u001b[39;49m\u001b[38;5;124;43m\"\u001b[39;49m\u001b[43m)\u001b[49m\n\u001b[0;32m   3470\u001b[0m     exclusive_fp \u001b[38;5;241m=\u001b[39m \u001b[38;5;28;01mTrue\u001b[39;00m\n\u001b[0;32m   3471\u001b[0m \u001b[38;5;28;01melse\u001b[39;00m:\n",
      "\u001b[1;31mPermissionError\u001b[0m: [Errno 13] Permission denied: 'C:\\\\Users\\\\Chris Nevares\\\\Documents\\\\Capstone\\\\assets\\\\pdf_jpg_test\\\\.ipynb_checkpoints'"
     ]
    }
   ],
   "source": [
    "convert_to_jpg_standardize_dpi(input_folder=\"assets/pdf_jpg_test/\", output_folder='assets/standardized_test')"
   ]
  },
  {
   "cell_type": "code",
   "execution_count": 15,
   "id": "37ab3792-2ec7-4fee-8586-dfd07beddcc7",
   "metadata": {},
   "outputs": [],
   "source": [
    "def preprocess_images(input_folder, output_folder):  #, output_folder):\n",
    "    #os.makedirs(output_folder, exist_ok=True)\n",
    "\n",
    "    for filename in os.listdir(input_folder):\n",
    "        # Resize image to 600x600 and convert to RGB\n",
    "        resized_img = img.resize((600, 600)).convert('RGB')\n",
    "        # converts image from rgb range of 0 - 255, to \n",
    "        img_array = np.array(image) / 255.0\n",
    "        \n",
    "        print(img_array.shape)"
   ]
  },
  {
   "cell_type": "code",
   "execution_count": null,
   "id": "50a95e58-d043-475b-8ca6-c2b2b528037e",
   "metadata": {},
   "outputs": [],
   "source": [
    "preprocess_images(r\"assets/SinglePDF/\", r\"assets/test\")"
   ]
  },
  {
   "cell_type": "code",
   "execution_count": null,
   "id": "4c627bc3-d574-4ecb-a386-bec78b4d0941",
   "metadata": {},
   "outputs": [],
   "source": [
    "def contrast_stretch(img):\n",
    "    img_array = np.array(img)\n",
    "\n",
    "    # Perform contrast stretching\n",
    "    p2, p98 = np.percentile(img_array, (2, 98))  # Percentiles for stretching\n",
    "    img_stretched = np.clip((img_array - p2) * (255 / (p98 - p2)), 0, 255)\n",
    "\n",
    "    # Convert back to PIL image and save\n",
    "    img_stretched = Image.fromarray(img_stretched.astype(\"uint8\"))\n",
    "    "
   ]
  },
  {
   "cell_type": "code",
   "execution_count": null,
   "id": "1e7cae22-dfeb-4614-b9e6-8d5a8c4fcb52",
   "metadata": {},
   "outputs": [],
   "source": [
    "def convert_pdf_folder_to_jpg(input_folder, output_folder):\n",
    "    # Ensure the output folder exists\n",
    "    os.makedirs(output_folder, exist_ok=True)\n",
    "\n",
    "    # Loop through each PDF file in the folder\n",
    "    for filename in os.listdir(input_folder):\n",
    "        if filename.lower().endswith(\".pdf\"):\n",
    "            pdf_path = os.path.join(input_folder, filename)\n",
    "            # Convert PDF to a list of images (one image per page) at default DPI\n",
    "            pages = convert_from_path(pdf_path)\n",
    "\n",
    "            # Save each page as a separate JPG file\n",
    "            for i, page in enumerate(pages):\n",
    "                output_filename = os.path.join(\n",
    "                    output_folder, f\"{os.path.splitext(filename)[0]}_page_{i + 1}.jpg\"\n",
    "                )\n",
    "                page.save(output_filename, \"JPEG\")\n",
    "                print(f\"Saved: {output_filename}\")\n",
    "\n",
    "# Example usage\n",
    "convert_pdf_folder_to_jpg(\"path_to_pdf_folder\", \"path_to_output_folder\")"
   ]
  },
  {
   "cell_type": "code",
   "execution_count": 10,
   "id": "7be39ca0-1b88-425a-b5ff-fa28b125dca0",
   "metadata": {},
   "outputs": [],
   "source": [
    "def convert_pdf_to_single_image(pdf_path):\n",
    "    # Convert PDF pages to images\n",
    "    pages = convert_from_path(pdf_path)\n",
    "    # Convert each page to RGB\n",
    "    pages = [page.convert(\"RGB\") for page in pages]\n",
    "\n",
    "    # Calculate the total height and width for the combined image (stacked vertically)\n",
    "    width = max(page.width for page in pages)\n",
    "    total_height = sum(page.height for page in pages)\n",
    "\n",
    "    # Create a new blank image with the total dimensions\n",
    "    combined_image = Image.new(\"RGB\", (width, total_height))\n",
    "\n",
    "    # Paste each page image one below the other\n",
    "    y_offset = 0\n",
    "    for page in pages:\n",
    "        combined_image.paste(page, (0, y_offset))\n",
    "        y_offset += page.height\n",
    "\n",
    "    return combined_image"
   ]
  },
  {
   "cell_type": "code",
   "execution_count": 33,
   "id": "e688dd73-6093-4244-9264-899b5579c1ca",
   "metadata": {},
   "outputs": [
    {
     "name": "stdout",
     "output_type": "stream",
     "text": [
      "File permissions modified successfully!\n"
     ]
    },
    {
     "ename": "PermissionError",
     "evalue": "[Errno 13] Permission denied: 'C:\\\\Users\\\\Chris Nevares\\\\Documents\\\\Capstone\\\\assets\\\\SinglePDF\\\\.ipynb_checkpoints'",
     "output_type": "error",
     "traceback": [
      "\u001b[1;31m---------------------------------------------------------------------------\u001b[0m",
      "\u001b[1;31mPermissionError\u001b[0m                           Traceback (most recent call last)",
      "Cell \u001b[1;32mIn[33], line 15\u001b[0m\n\u001b[0;32m     12\u001b[0m \u001b[38;5;28;01mexcept\u001b[39;00m \u001b[38;5;167;01mPermissionError\u001b[39;00m:\n\u001b[0;32m     13\u001b[0m     \u001b[38;5;28mprint\u001b[39m(\u001b[38;5;124m\"\u001b[39m\u001b[38;5;124mPermission denied: You don\u001b[39m\u001b[38;5;124m'\u001b[39m\u001b[38;5;124mt have the necessary permissions to change the permissions of this file.\u001b[39m\u001b[38;5;124m\"\u001b[39m)\n\u001b[1;32m---> 15\u001b[0m \u001b[38;5;28;01mwith\u001b[39;00m \u001b[38;5;28;43mopen\u001b[39;49m\u001b[43m(\u001b[49m\u001b[43mfile_path\u001b[49m\u001b[43m,\u001b[49m\u001b[43m \u001b[49m\u001b[38;5;124;43m\"\u001b[39;49m\u001b[38;5;124;43mw\u001b[39;49m\u001b[38;5;124;43m\"\u001b[39;49m\u001b[43m)\u001b[49m \u001b[38;5;28;01mas\u001b[39;00m file:\n\u001b[0;32m     16\u001b[0m     new_content \u001b[38;5;241m=\u001b[39m \u001b[38;5;124m\"\u001b[39m\u001b[38;5;124mNew content to replace the existing content.\u001b[39m\u001b[38;5;124m\"\u001b[39m\n\u001b[0;32m     17\u001b[0m     file\u001b[38;5;241m.\u001b[39mwrite(new_content)\n",
      "File \u001b[1;32m~\\.conda\\envs\\tf\\lib\\site-packages\\IPython\\core\\interactiveshell.py:286\u001b[0m, in \u001b[0;36m_modified_open\u001b[1;34m(file, *args, **kwargs)\u001b[0m\n\u001b[0;32m    279\u001b[0m \u001b[38;5;28;01mif\u001b[39;00m file \u001b[38;5;129;01min\u001b[39;00m {\u001b[38;5;241m0\u001b[39m, \u001b[38;5;241m1\u001b[39m, \u001b[38;5;241m2\u001b[39m}:\n\u001b[0;32m    280\u001b[0m     \u001b[38;5;28;01mraise\u001b[39;00m \u001b[38;5;167;01mValueError\u001b[39;00m(\n\u001b[0;32m    281\u001b[0m         \u001b[38;5;124mf\u001b[39m\u001b[38;5;124m\"\u001b[39m\u001b[38;5;124mIPython won\u001b[39m\u001b[38;5;124m'\u001b[39m\u001b[38;5;124mt let you open fd=\u001b[39m\u001b[38;5;132;01m{\u001b[39;00mfile\u001b[38;5;132;01m}\u001b[39;00m\u001b[38;5;124m by default \u001b[39m\u001b[38;5;124m\"\u001b[39m\n\u001b[0;32m    282\u001b[0m         \u001b[38;5;124m\"\u001b[39m\u001b[38;5;124mas it is likely to crash IPython. If you know what you are doing, \u001b[39m\u001b[38;5;124m\"\u001b[39m\n\u001b[0;32m    283\u001b[0m         \u001b[38;5;124m\"\u001b[39m\u001b[38;5;124myou can use builtins\u001b[39m\u001b[38;5;124m'\u001b[39m\u001b[38;5;124m open.\u001b[39m\u001b[38;5;124m\"\u001b[39m\n\u001b[0;32m    284\u001b[0m     )\n\u001b[1;32m--> 286\u001b[0m \u001b[38;5;28;01mreturn\u001b[39;00m io_open(file, \u001b[38;5;241m*\u001b[39margs, \u001b[38;5;241m*\u001b[39m\u001b[38;5;241m*\u001b[39mkwargs)\n",
      "\u001b[1;31mPermissionError\u001b[0m: [Errno 13] Permission denied: 'C:\\\\Users\\\\Chris Nevares\\\\Documents\\\\Capstone\\\\assets\\\\SinglePDF\\\\.ipynb_checkpoints'"
     ]
    }
   ],
   "source": [
    "import os\n",
    "\n",
    "file_path = \"C:\\\\Users\\\\Chris Nevares\\\\Documents\\\\Capstone\\\\assets\\\\SinglePDF\\\\.ipynb_checkpoints\"\n",
    "\n",
    "try:\n",
    "    if os.path.exists(file_path):\n",
    "\n",
    "        os.chmod(file_path, 0o666)\n",
    "        print(\"File permissions modified successfully!\")\n",
    "    else:\n",
    "        print(\"File not found:\", file_path)\n",
    "except PermissionError:\n",
    "    print(\"Permission denied: You don't have the necessary permissions to change the permissions of this file.\")\n",
    "\n",
    "with open(file_path, \"w\") as file:\n",
    "    new_content = \"New content to replace the existing content.\"\n",
    "    file.write(new_content)\n",
    "\n",
    "print(\"File content modified successfully!\")"
   ]
  },
  {
   "cell_type": "code",
   "execution_count": 1,
   "id": "84897ec6-a64b-4041-a50b-2f1322556e31",
   "metadata": {},
   "outputs": [
    {
     "name": "stdout",
     "output_type": "stream",
     "text": [
      "Collecting pytesseract\n",
      "  Using cached pytesseract-0.3.13-py3-none-any.whl.metadata (11 kB)\n",
      "Requirement already satisfied: packaging>=21.3 in c:\\users\\chris nevares\\.conda\\envs\\tf\\lib\\site-packages (from pytesseract) (24.1)\n",
      "Requirement already satisfied: Pillow>=8.0.0 in c:\\users\\chris nevares\\.conda\\envs\\tf\\lib\\site-packages (from pytesseract) (11.0.0)\n",
      "Using cached pytesseract-0.3.13-py3-none-any.whl (14 kB)\n",
      "Installing collected packages: pytesseract\n",
      "Successfully installed pytesseract-0.3.13\n",
      "Note: you may need to restart the kernel to use updated packages.\n"
     ]
    }
   ],
   "source": [
    "pip install pytesseract"
   ]
  },
  {
   "cell_type": "code",
   "execution_count": null,
   "id": "00db74ca-c8a9-4c39-b135-1eff7e4dbe41",
   "metadata": {},
   "outputs": [],
   "source": []
  }
 ],
 "metadata": {
  "kernelspec": {
   "display_name": "Python 3 (ipykernel)",
   "language": "python",
   "name": "python3"
  },
  "language_info": {
   "codemirror_mode": {
    "name": "ipython",
    "version": 3
   },
   "file_extension": ".py",
   "mimetype": "text/x-python",
   "name": "python",
   "nbconvert_exporter": "python",
   "pygments_lexer": "ipython3",
   "version": "3.9.20"
  }
 },
 "nbformat": 4,
 "nbformat_minor": 5
}
